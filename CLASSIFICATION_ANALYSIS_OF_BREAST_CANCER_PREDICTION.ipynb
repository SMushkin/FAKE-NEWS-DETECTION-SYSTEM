{
  "nbformat": 4,
  "nbformat_minor": 0,
  "metadata": {
    "colab": {
      "name": "CLASSIFICATION ANALYSIS OF BREAST CANCER PREDICTION",
      "provenance": [],
      "authorship_tag": "ABX9TyOgWVSYT0J43e4xolL/Bd+s",
      "include_colab_link": true
    },
    "kernelspec": {
      "name": "python3",
      "display_name": "Python 3"
    },
    "language_info": {
      "name": "python"
    }
  },
  "cells": [
    {
      "cell_type": "markdown",
      "metadata": {
        "id": "view-in-github",
        "colab_type": "text"
      },
      "source": [
        "<a href=\"https://colab.research.google.com/github/SMushkin/FAKE-NEWS-DETECTION-SYSTEM/blob/main/CLASSIFICATION_ANALYSIS_OF_BREAST_CANCER_PREDICTION.ipynb\" target=\"_parent\"><img src=\"https://colab.research.google.com/assets/colab-badge.svg\" alt=\"Open In Colab\"/></a>"
      ]
    },
    {
      "cell_type": "code",
      "metadata": {
        "id": "LntwnsvAiLIZ"
      },
      "source": [
        "import numpy as np\n",
        "import pandas as pd\n",
        "import matplotlib.pyplot as plt"
      ],
      "execution_count": 1,
      "outputs": []
    },
    {
      "cell_type": "code",
      "metadata": {
        "colab": {
          "base_uri": "https://localhost:8080/"
        },
        "id": "HS5BWf7AkofE",
        "outputId": "f63b88eb-a0f7-4356-b66a-f27a9da53215"
      },
      "source": [
        "dataset=pd.read_csv('Breast_cancer_data.csv')\n",
        "print(dataset)\n",
        "dataset.shape\n",
        "X=dataset.iloc[:,:-1].values\n",
        "y=dataset.iloc[:,-1].values\n",
        "y.reshape(-1,1)\n",
        "print(X)\n",
        "print(y)"
      ],
      "execution_count": 3,
      "outputs": [
        {
          "output_type": "stream",
          "name": "stdout",
          "text": [
            "     mean_radius  mean_texture  ...  mean_smoothness  diagnosis\n",
            "0          17.99         10.38  ...          0.11840          0\n",
            "1          20.57         17.77  ...          0.08474          0\n",
            "2          19.69         21.25  ...          0.10960          0\n",
            "3          11.42         20.38  ...          0.14250          0\n",
            "4          20.29         14.34  ...          0.10030          0\n",
            "..           ...           ...  ...              ...        ...\n",
            "564        21.56         22.39  ...          0.11100          0\n",
            "565        20.13         28.25  ...          0.09780          0\n",
            "566        16.60         28.08  ...          0.08455          0\n",
            "567        20.60         29.33  ...          0.11780          0\n",
            "568         7.76         24.54  ...          0.05263          1\n",
            "\n",
            "[569 rows x 6 columns]\n",
            "[[1.799e+01 1.038e+01 1.228e+02 1.001e+03 1.184e-01]\n",
            " [2.057e+01 1.777e+01 1.329e+02 1.326e+03 8.474e-02]\n",
            " [1.969e+01 2.125e+01 1.300e+02 1.203e+03 1.096e-01]\n",
            " ...\n",
            " [1.660e+01 2.808e+01 1.083e+02 8.581e+02 8.455e-02]\n",
            " [2.060e+01 2.933e+01 1.401e+02 1.265e+03 1.178e-01]\n",
            " [7.760e+00 2.454e+01 4.792e+01 1.810e+02 5.263e-02]]\n",
            "[0 0 0 0 0 0 0 0 0 0 0 0 0 0 0 0 0 0 0 1 1 1 0 0 0 0 0 0 0 0 0 0 0 0 0 0 0\n",
            " 1 0 0 0 0 0 0 0 0 1 0 1 1 1 1 1 0 0 1 0 0 1 1 1 1 0 1 0 0 1 1 1 1 0 1 0 0\n",
            " 1 0 1 0 0 1 1 1 0 0 1 0 0 0 1 1 1 0 1 1 0 0 1 1 1 0 0 1 1 1 1 0 1 1 0 1 1\n",
            " 1 1 1 1 1 1 0 0 0 1 0 0 1 1 1 0 0 1 0 1 0 0 1 0 0 1 1 0 1 1 0 1 1 1 1 0 1\n",
            " 1 1 1 1 1 1 1 1 0 1 1 1 1 0 0 1 0 1 1 0 0 1 1 0 0 1 1 1 1 0 1 1 0 0 0 1 0\n",
            " 1 0 1 1 1 0 1 1 0 0 1 0 0 0 0 1 0 0 0 1 0 1 0 1 1 0 1 0 0 0 0 1 1 0 0 1 1\n",
            " 1 0 1 1 1 1 1 0 0 1 1 0 1 1 0 0 1 0 1 1 1 1 0 1 1 1 1 1 0 1 0 0 0 0 0 0 0\n",
            " 0 0 0 0 0 0 0 1 1 1 1 1 1 0 1 0 1 1 0 1 1 0 1 0 0 1 1 1 1 1 1 1 1 1 1 1 1\n",
            " 1 0 1 1 0 1 0 1 1 1 1 1 1 1 1 1 1 1 1 1 1 0 1 1 1 0 1 0 1 1 1 1 0 0 0 1 1\n",
            " 1 1 0 1 0 1 0 1 1 1 0 1 1 1 1 1 1 1 0 0 0 1 1 1 1 1 1 1 1 1 1 1 0 0 1 0 0\n",
            " 0 1 0 0 1 1 1 1 1 0 1 1 1 1 1 0 1 1 1 0 1 1 0 0 1 1 1 1 1 1 0 1 1 1 1 1 1\n",
            " 1 0 1 1 1 1 1 0 1 1 0 1 1 1 1 1 1 1 1 1 1 1 1 0 1 0 0 1 0 1 1 1 1 1 0 1 1\n",
            " 0 1 0 1 1 0 1 0 1 1 1 1 1 1 1 1 0 0 1 1 1 1 1 1 0 1 1 1 1 1 1 1 1 1 1 0 1\n",
            " 1 1 1 1 1 1 0 1 0 1 1 0 1 1 1 1 1 0 0 1 0 1 0 1 1 1 1 1 0 1 1 0 1 0 1 0 0\n",
            " 1 1 1 0 1 1 1 1 1 1 1 1 1 1 1 0 1 0 0 1 1 1 1 1 1 1 1 1 1 1 1 1 1 1 1 1 1\n",
            " 1 1 1 1 1 1 1 0 0 0 0 0 0 1]\n"
          ]
        }
      ]
    },
    {
      "cell_type": "code",
      "metadata": {
        "id": "9WW7TLXkkvzt"
      },
      "source": [
        "from sklearn.model_selection import train_test_split\n",
        "X_train,X_test,y_train,y_test=train_test_split(X,y,test_size=0.2,random_state=42)"
      ],
      "execution_count": 4,
      "outputs": []
    },
    {
      "cell_type": "markdown",
      "metadata": {
        "id": "MDUrnB96lN3u"
      },
      "source": [
        "LOGISTIC REGRESSION"
      ]
    },
    {
      "cell_type": "code",
      "metadata": {
        "id": "U3ZiMAw4lC7U"
      },
      "source": [
        "from sklearn.linear_model import LogisticRegression\n",
        "classifier=LogisticRegression()\n",
        "classifier.fit(X_train,y_train)\n",
        "y_pred=classifier.predict(X_test)"
      ],
      "execution_count": 5,
      "outputs": []
    },
    {
      "cell_type": "code",
      "metadata": {
        "colab": {
          "base_uri": "https://localhost:8080/"
        },
        "id": "quFwOvcSlGKs",
        "outputId": "7804da07-3aee-4829-c97e-2c2280a53823"
      },
      "source": [
        "y_pred"
      ],
      "execution_count": 6,
      "outputs": [
        {
          "output_type": "execute_result",
          "data": {
            "text/plain": [
              "array([1, 0, 0, 1, 1, 0, 0, 0, 1, 1, 1, 0, 1, 0, 1, 0, 1, 1, 1, 0, 1, 1,\n",
              "       0, 1, 1, 1, 1, 1, 1, 0, 1, 1, 1, 1, 1, 1, 0, 1, 0, 0, 1, 0, 1, 1,\n",
              "       1, 1, 1, 1, 1, 1, 0, 0, 0, 1, 1, 1, 1, 0, 1, 1, 1, 0, 0, 0, 1, 1,\n",
              "       0, 0, 1, 1, 0, 0, 1, 0, 1, 1, 1, 1, 1, 1, 0, 1, 0, 0, 0, 0, 0, 0,\n",
              "       1, 1, 1, 1, 0, 1, 1, 1, 0, 0, 1, 0, 0, 1, 0, 0, 1, 1, 1, 0, 1, 1,\n",
              "       0, 1, 0, 0])"
            ]
          },
          "metadata": {},
          "execution_count": 6
        }
      ]
    },
    {
      "cell_type": "code",
      "metadata": {
        "colab": {
          "base_uri": "https://localhost:8080/"
        },
        "id": "0czdeF7PlSNo",
        "outputId": "2b84b816-20bc-455f-96d0-40b27d0f9237"
      },
      "source": [
        "y_test"
      ],
      "execution_count": 7,
      "outputs": [
        {
          "output_type": "execute_result",
          "data": {
            "text/plain": [
              "array([1, 0, 0, 1, 1, 0, 0, 0, 1, 1, 1, 0, 1, 0, 1, 0, 1, 1, 1, 0, 0, 1,\n",
              "       0, 1, 1, 1, 1, 1, 1, 0, 1, 1, 1, 1, 1, 1, 0, 1, 0, 1, 1, 0, 1, 1,\n",
              "       1, 1, 1, 1, 1, 1, 0, 0, 1, 1, 1, 1, 1, 0, 0, 1, 1, 0, 0, 1, 1, 1,\n",
              "       0, 0, 1, 1, 0, 0, 1, 0, 1, 1, 1, 0, 1, 1, 0, 1, 0, 0, 0, 0, 0, 0,\n",
              "       1, 1, 1, 1, 1, 1, 1, 1, 0, 0, 1, 0, 0, 1, 0, 0, 1, 1, 1, 0, 1, 1,\n",
              "       0, 1, 1, 0])"
            ]
          },
          "metadata": {},
          "execution_count": 7
        }
      ]
    },
    {
      "cell_type": "code",
      "metadata": {
        "colab": {
          "base_uri": "https://localhost:8080/"
        },
        "id": "I7-6dWJrlUR2",
        "outputId": "2f4379a7-e3c6-4777-e309-da6a960651c8"
      },
      "source": [
        "from sklearn.metrics import confusion_matrix,accuracy_score\n",
        "result=confusion_matrix(y_test,y_pred)\n",
        "print(result)\n",
        "scores=accuracy_score(y_test,y_pred)\n",
        "print(np.round(scores*100,4))"
      ],
      "execution_count": 8,
      "outputs": [
        {
          "output_type": "stream",
          "name": "stdout",
          "text": [
            "[[40  3]\n",
            " [ 5 66]]\n",
            "92.9825\n"
          ]
        }
      ]
    },
    {
      "cell_type": "markdown",
      "metadata": {
        "id": "MLfXWvgalX0v"
      },
      "source": [
        "KNN"
      ]
    },
    {
      "cell_type": "code",
      "metadata": {
        "colab": {
          "base_uri": "https://localhost:8080/"
        },
        "id": "84uYFYqAlaD1",
        "outputId": "4cb99028-3ed1-47a1-f943-8cb1a1f860f1"
      },
      "source": [
        "from sklearn.neighbors import KNeighborsClassifier\n",
        "classifier=KNeighborsClassifier(n_neighbors=5,metric='minkowski',p=2)\n",
        "classifier.fit(X_train,y_train)\n",
        "y_pred=classifier.predict(X_test)\n",
        "from sklearn.metrics import confusion_matrix,accuracy_score\n",
        "res=confusion_matrix(y_test,y_pred)\n",
        "print(res)\n",
        "res2=accuracy_score(y_test,y_pred)\n",
        "print(np.round(res2*100,4))"
      ],
      "execution_count": 9,
      "outputs": [
        {
          "output_type": "stream",
          "name": "stdout",
          "text": [
            "[[37  6]\n",
            " [ 1 70]]\n",
            "93.8596\n"
          ]
        }
      ]
    },
    {
      "cell_type": "markdown",
      "metadata": {
        "id": "3rtNNvL7lekt"
      },
      "source": [
        "KERNEL SVM"
      ]
    },
    {
      "cell_type": "code",
      "metadata": {
        "colab": {
          "base_uri": "https://localhost:8080/"
        },
        "id": "FRKpSu0Yld7s",
        "outputId": "a4363dac-e234-420f-f832-dcb7f533d545"
      },
      "source": [
        "from sklearn.svm import SVC\n",
        "classifier=SVC(kernel='rbf',random_state=42)\n",
        "classifier.fit(X_train,y_train)\n",
        "y_pred=classifier.predict(X_test)\n",
        "from sklearn.metrics import confusion_matrix,accuracy_score\n",
        "res=confusion_matrix(y_test,y_pred)\n",
        "print(res)\n",
        "res2=accuracy_score(y_test,y_pred)\n",
        "print(np.round(res2*100,4))"
      ],
      "execution_count": 10,
      "outputs": [
        {
          "output_type": "stream",
          "name": "stdout",
          "text": [
            "[[34  9]\n",
            " [ 0 71]]\n",
            "92.1053\n"
          ]
        }
      ]
    },
    {
      "cell_type": "markdown",
      "metadata": {
        "id": "AhNXfL9Ul7ku"
      },
      "source": [
        "NAIVE BAYES"
      ]
    },
    {
      "cell_type": "code",
      "metadata": {
        "colab": {
          "base_uri": "https://localhost:8080/"
        },
        "id": "Ohnkp9Vel-ue",
        "outputId": "764f3586-fc75-4ba8-8408-03bf8a4a68bf"
      },
      "source": [
        "from sklearn.naive_bayes import GaussianNB\n",
        "classifier=GaussianNB()\n",
        "classifier.fit(X_train,y_train)\n",
        "y_pred=classifier.predict(X_test)\n",
        "from sklearn.metrics import confusion_matrix,accuracy_score\n",
        "res=confusion_matrix(y_test,y_pred)\n",
        "print(res)\n",
        "res2=accuracy_score(y_test,y_pred)\n",
        "print(np.round(res2*100,4))\n"
      ],
      "execution_count": 11,
      "outputs": [
        {
          "output_type": "stream",
          "name": "stdout",
          "text": [
            "[[36  7]\n",
            " [ 0 71]]\n",
            "93.8596\n"
          ]
        }
      ]
    },
    {
      "cell_type": "markdown",
      "metadata": {
        "id": "OC011ZMxmDDN"
      },
      "source": [
        "DECISION TREE"
      ]
    },
    {
      "cell_type": "code",
      "metadata": {
        "colab": {
          "base_uri": "https://localhost:8080/"
        },
        "id": "T-rORLw2mFlc",
        "outputId": "56208542-0c81-433f-d308-c20eb6b276cf"
      },
      "source": [
        "from sklearn.tree import DecisionTreeClassifier\n",
        "classifier=DecisionTreeClassifier(criterion='entropy',max_leaf_nodes=10,random_state=42)\n",
        "classifier.fit(X_train,y_train)\n",
        "y_pred=classifier.predict(X_test)\n",
        "from sklearn.metrics import confusion_matrix,accuracy_score\n",
        "res=confusion_matrix(y_test,y_pred)\n",
        "print(res)\n",
        "res2=accuracy_score(y_test,y_pred)\n",
        "print(np.round(res2*100,4))"
      ],
      "execution_count": 12,
      "outputs": [
        {
          "output_type": "stream",
          "name": "stdout",
          "text": [
            "[[41  2]\n",
            " [ 7 64]]\n",
            "92.1053\n"
          ]
        }
      ]
    },
    {
      "cell_type": "markdown",
      "metadata": {
        "id": "f5KG_M8JmOlU"
      },
      "source": [
        "RANDOM FOREST"
      ]
    },
    {
      "cell_type": "code",
      "metadata": {
        "colab": {
          "base_uri": "https://localhost:8080/"
        },
        "id": "7MfPU5vmmKY9",
        "outputId": "a4035446-dda3-4507-9c37-e01528e991e2"
      },
      "source": [
        "from sklearn.ensemble import RandomForestClassifier\n",
        "classsifier=RandomForestClassifier(max_leaf_nodes=10,random_state=42)\n",
        "classifier.fit(X_train,y_train)\n",
        "y_pred=classifier.predict(X_test)\n",
        "from sklearn.metrics import confusion_matrix,accuracy_score\n",
        "res=confusion_matrix(y_test,y_pred)\n",
        "print(res)\n",
        "res2=accuracy_score(y_test,y_pred)\n",
        "print(np.round(res2*100,4))\n"
      ],
      "execution_count": 13,
      "outputs": [
        {
          "output_type": "stream",
          "name": "stdout",
          "text": [
            "[[41  2]\n",
            " [ 7 64]]\n",
            "92.1053\n"
          ]
        }
      ]
    },
    {
      "cell_type": "markdown",
      "metadata": {
        "id": "0qdnWFPLmXfd"
      },
      "source": [
        "XGBOOST"
      ]
    },
    {
      "cell_type": "code",
      "metadata": {
        "colab": {
          "base_uri": "https://localhost:8080/"
        },
        "id": "Z_MK4c4qmW3s",
        "outputId": "0c322d75-2d7c-4f3e-f87c-20999c3ed8d5"
      },
      "source": [
        "from xgboost import XGBClassifier\n",
        "classifier=XGBClassifier()\n",
        "classifier.fit(X_train,y_train)\n",
        "y_pred=classifier.predict(X_test)\n",
        "from sklearn.metrics import confusion_matrix,accuracy_score\n",
        "res=confusion_matrix(y_test,y_pred)\n",
        "print(res)\n",
        "res2=accuracy_score(y_test,y_pred)\n",
        "print(np.round(res2*100,4))"
      ],
      "execution_count": 20,
      "outputs": [
        {
          "output_type": "stream",
          "name": "stdout",
          "text": [
            "[[41  2]\n",
            " [ 1 70]]\n",
            "97.3684\n"
          ]
        }
      ]
    }
  ]
}